{
 "cells": [
  {
   "cell_type": "code",
   "execution_count": 18,
   "metadata": {},
   "outputs": [],
   "source": [
    "from sklearn.feature_extraction.text import TfidfVectorizer\n",
    "import os\n",
    "\n",
    "def resume_tfidf(input_filepath,resume_filepath,output_filepath):\n",
    "    stop_words=['.','/','\\\\']\n",
    "    with open(input_filepath, \"r\", encoding='latin-1') as f:\n",
    "        output_words = f.read().lower().split()\n",
    "        output_words=[item for item in output_words if not any(stop_word in item.lower() for stop_word in stop_words) and not any(char.isdigit() for char in item)]\n",
    "        \n",
    "        \n",
    "    with open(resume_filepath, \"r\", encoding='latin-1') as f:\n",
    "        resume_text = f.read().lower()\n",
    "\n",
    "    corpus = [\" \".join(output_words), resume_text]\n",
    "\n",
    "    vectorizer = TfidfVectorizer()\n",
    "    tfidf_matrix = vectorizer.fit_transform(corpus)\n",
    "\n",
    "    feature_names = vectorizer.get_feature_names_out()\n",
    "    with open(output_filepath, \"w\", encoding='latin-1') as f:\n",
    "        for i, word in enumerate(output_words):\n",
    "            \n",
    "            if word in feature_names.tolist():\n",
    "                tfidf_value = tfidf_matrix[0, feature_names.tolist().index(word)]\n",
    "                f.write(f\"{word}: {tfidf_value}\\n\")\n",
    "\n",
    "def process_and_save(input_folder, resume_folder, output_folder):\n",
    "    #files = [f for f in os.listdir(input_folder) if os.path.isfile(os.path.join(input_folder, f))]\n",
    "    files = [f for f in os.listdir(input_folder) if os.path.isfile(os.path.join(input_folder, f)) and not f.startswith('.')]\n",
    "    for file_name in files:\n",
    "        input_filepath = os.path.join(input_folder, file_name)\n",
    "        resume_filepath=os.path.join(resume_folder, file_name)\n",
    "        output_filepath = os.path.join(output_folder, file_name)\n",
    "        resume_tfidf(input_filepath,resume_filepath,output_filepath)\n",
    "        \n",
    "#process_and_save('output_pyresparser', 'resume_txt', 'resume_tfidf_output')\n",
    "#process_and_save('output_pyresparser', 'extracted_resume_model_1', 'resume_tfidf_output_model_1')\n",
    "process_and_save('output_pyresparser', 'extracted_resume_model_2', 'resume_tfidf_output_model_2')\n",
    "\n"
   ]
  }
 ],
 "metadata": {
  "kernelspec": {
   "display_name": "Python 3",
   "language": "python",
   "name": "python3"
  },
  "language_info": {
   "codemirror_mode": {
    "name": "ipython",
    "version": 3
   },
   "file_extension": ".py",
   "mimetype": "text/x-python",
   "name": "python",
   "nbconvert_exporter": "python",
   "pygments_lexer": "ipython3",
   "version": "3.11.4"
  }
 },
 "nbformat": 4,
 "nbformat_minor": 2
}
